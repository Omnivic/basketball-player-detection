{
 "cells": [
  {
   "cell_type": "code",
   "execution_count": null,
   "metadata": {},
   "outputs": [],
   "source": [
    "#確認版本\n",
    "import cv2\n",
    "from ultralytics import YOLO\n",
    "import torch\n",
    "import torchvision.models as models\n",
    "import torchvision\n",
    "import sys \n",
    "print(sys.version)\n",
    "\n",
    "# 检查GPU是否可用\n",
    "if torch.cuda.is_available():\n",
    "    device = torch.device(\"cuda\")\n",
    "    print('Using GPU for training and inference.')\n",
    "else:\n",
    "    device = torch.device(\"cpu\")\n",
    "    print('GPU not detected, using CPU.')\n",
    "\n",
    "print(torch.__version__)  # 应该输出 2.3.0+cu121\n",
    "print(torchvision.__version__)  # 应该输出 0.15.2+cu121\n",
    "print(torch.version.cuda) "
   ]
  },
  {
   "cell_type": "code",
   "execution_count": null,
   "metadata": {},
   "outputs": [],
   "source": [
    "# 訓練yolo模型\n",
    "# 0: 'Ball', 1: 'Hoop', 2: 'Player' 球員不分隊伍\n",
    "\n",
    "import os\n",
    "from pathlib import Path\n",
    "from ultralytics import YOLO\n",
    "\n",
    "file_path = 'C:/Users/a3221/deltable_data/yolov8_teamDiff/dataset/data.yaml'\n",
    "\n",
    "if os.path.exists(file_path):\n",
    "    print(\"File exists\")\n",
    "else:\n",
    "    print(\"File does not exist\")\n",
    "\n",
    "# 加载 YOLOv8 模型\n",
    "# model = YOLO('C:/Users/a3221/deltable_data/yolov8_teamDiff/yolov8_trained.pt')\n",
    "model = YOLO('C:/Users/a3221/deltable_data/yolov8_teamDiff/yolov8n.pt')\n",
    "# 訓練模型\n",
    "print(\"開始訓練\")\n",
    "model.train(data=file_path, epochs=50, imgsz=640)\n",
    "print(\"訓練完成\")\n",
    "\n",
    "\n",
    "try:\n",
    "    metrics = model1.val()\n",
    "    print(\"評估完成\")\n",
    "    # 打印模型評估结果\n",
    "    print(metrics)\n",
    "except RuntimeError as e:\n",
    "    print(f\"Validation failed: {e}\")"
   ]
  }
 ],
 "metadata": {
  "language_info": {
   "name": "python"
  }
 },
 "nbformat": 4,
 "nbformat_minor": 2
}
